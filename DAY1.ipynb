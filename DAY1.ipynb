{
 "cells": [
  {
   "cell_type": "markdown",
   "metadata": {},
   "source": [
    "# PYTHON\n",
    "## PYTHON\n",
    "### PYTHON\n",
    "#### PYTHON\n",
    "##### PYTHON\n",
    "###### PYTHON\n",
    "####### PYTHON"
   ]
  },
  {
   "cell_type": "markdown",
   "metadata": {},
   "source": [
    "# PYTHON\n",
    "  - DAY1\n",
    "  - DAY2\n",
    "      - TOPIC\n",
    "      - **subpoint**\n",
    "      - *subpoint*\n",
    "      - ***subpoint***\n"
   ]
  },
  {
   "cell_type": "markdown",
   "metadata": {},
   "source": [
    "### python introduction\n",
    "- python 3\n",
    "- python can be used as functional programming\n",
    "- python can be used as scripting programming\n",
    "- python initially designed by **Guido Van Rossum** in 1991"
   ]
  },
  {
   "cell_type": "code",
   "execution_count": 2,
   "metadata": {},
   "outputs": [
    {
     "name": "stdout",
     "output_type": "stream",
     "text": [
      "hello world\n",
      "welcome to python programming\n"
     ]
    }
   ],
   "source": [
    "# Input and Output function\n",
    "# output function\n",
    "print(\"hello world\")\n",
    "print(\"welcome to python programming\")"
   ]
  },
  {
   "cell_type": "code",
   "execution_count": 4,
   "metadata": {},
   "outputs": [
    {
     "name": "stdout",
     "output_type": "stream",
     "text": [
      "markdown cell code cell\n"
     ]
    }
   ],
   "source": [
    "print(\"markdown cell\",end = ' ')\n",
    "print(\"code cell\")"
   ]
  },
  {
   "cell_type": "code",
   "execution_count": 5,
   "metadata": {},
   "outputs": [
    {
     "name": "stdout",
     "output_type": "stream",
     "text": [
      "enter your name:\n",
      " akhila\n",
      "your name is= akhila\n"
     ]
    }
   ],
   "source": [
    "# input function\n",
    "print(\"enter your name:\")\n",
    "a=input(' ')\n",
    "print(\"your name is=\",a)"
   ]
  },
  {
   "cell_type": "markdown",
   "metadata": {},
   "source": [
    "#### variables are also called as identifiers\n",
    "#### variable name always starts with alphabets\n",
    "#### does not start with any special char except_\n",
    "#### does not start with digit"
   ]
  },
  {
   "cell_type": "code",
   "execution_count": 6,
   "metadata": {},
   "outputs": [
    {
     "data": {
      "text/plain": [
       "int"
      ]
     },
     "execution_count": 6,
     "metadata": {},
     "output_type": "execute_result"
    }
   ],
   "source": [
    "x=10\n",
    "type(x)"
   ]
  },
  {
   "cell_type": "code",
   "execution_count": 7,
   "metadata": {},
   "outputs": [
    {
     "data": {
      "text/plain": [
       "22"
      ]
     },
     "execution_count": 7,
     "metadata": {},
     "output_type": "execute_result"
    }
   ],
   "source": [
    "y=12\n",
    "x+y"
   ]
  },
  {
   "cell_type": "markdown",
   "metadata": {},
   "source": [
    "### fundamental data types in python:\n",
    "#### int\n",
    "#### float\n",
    "#### complex\n",
    "#### boolean\n",
    "#### string"
   ]
  },
  {
   "cell_type": "code",
   "execution_count": 9,
   "metadata": {},
   "outputs": [
    {
     "name": "stdout",
     "output_type": "stream",
     "text": [
      "25.5\n"
     ]
    }
   ],
   "source": [
    "x=10\n",
    "y=15.5\n",
    "print(x+y)"
   ]
  },
  {
   "cell_type": "code",
   "execution_count": 11,
   "metadata": {},
   "outputs": [
    {
     "name": "stdout",
     "output_type": "stream",
     "text": [
      "(5+5j)\n"
     ]
    }
   ],
   "source": [
    "c= 2+2j\n",
    "type(c)\n",
    "d= 3+3j\n",
    "print(c+d)\n",
    "# when multiple lines are given in a cell only last line output will be displayed"
   ]
  },
  {
   "cell_type": "code",
   "execution_count": 14,
   "metadata": {},
   "outputs": [
    {
     "name": "stdout",
     "output_type": "stream",
     "text": [
      "15\n",
      "(15.6+0j)\n"
     ]
    }
   ],
   "source": [
    "# type casting\n",
    "a=15.6\n",
    "print(int(a))\n",
    "print(complex(a))"
   ]
  },
  {
   "cell_type": "code",
   "execution_count": 15,
   "metadata": {},
   "outputs": [
    {
     "data": {
      "text/plain": [
       "(3+4j)"
      ]
     },
     "execution_count": 15,
     "metadata": {},
     "output_type": "execute_result"
    }
   ],
   "source": [
    "complex(3,4)"
   ]
  },
  {
   "cell_type": "markdown",
   "metadata": {},
   "source": [
    "### boolean datatype\n",
    "#### true\n",
    "#### false"
   ]
  },
  {
   "cell_type": "code",
   "execution_count": 21,
   "metadata": {},
   "outputs": [
    {
     "data": {
      "text/plain": [
       "bool"
      ]
     },
     "execution_count": 21,
     "metadata": {},
     "output_type": "execute_result"
    }
   ],
   "source": [
    "b=False\n",
    "type(b)"
   ]
  },
  {
   "cell_type": "code",
   "execution_count": 33,
   "metadata": {},
   "outputs": [
    {
     "name": "stdout",
     "output_type": "stream",
     "text": [
      "<class 'str'>\n",
      "<class 'str'>\n",
      "<class 'str'>\n",
      "100\n",
      "<class 'int'>\n",
      "<class 'float'>\n",
      "100.0\n",
      "<class 'bool'>\n",
      "True\n"
     ]
    }
   ],
   "source": [
    "# string\n",
    "a=\"python\"\n",
    "b='p'\n",
    "c=\"100\"\n",
    "print(type(a))\n",
    "print(type(b))\n",
    "print(type(c))\n",
    "x=int(c)\n",
    "y=float(c)\n",
    "print(c)\n",
    "print(type(x))\n",
    "print(type(y))\n",
    "print(y)\n",
    "z=bool(c)\n",
    "print(type(z))\n",
    "print(z)"
   ]
  },
  {
   "cell_type": "code",
   "execution_count": 35,
   "metadata": {},
   "outputs": [
    {
     "data": {
      "text/plain": [
       "4"
      ]
     },
     "execution_count": 35,
     "metadata": {},
     "output_type": "execute_result"
    }
   ],
   "source": [
    "a='1234'\n",
    "len(a)\n",
    "#int doesn't have function len()"
   ]
  },
  {
   "cell_type": "code",
   "execution_count": 36,
   "metadata": {},
   "outputs": [
    {
     "data": {
      "text/plain": [
       "4"
      ]
     },
     "execution_count": 36,
     "metadata": {},
     "output_type": "execute_result"
    }
   ],
   "source": [
    "a=1234\n",
    "len(str(a))\n",
    "# converts int into string and counts no of digits"
   ]
  },
  {
   "cell_type": "code",
   "execution_count": null,
   "metadata": {},
   "outputs": [],
   "source": []
  },
  {
   "cell_type": "code",
   "execution_count": null,
   "metadata": {},
   "outputs": [],
   "source": []
  },
  {
   "cell_type": "markdown",
   "metadata": {},
   "source": [
    "# operators\n",
    "### Arithmetic  operators\n",
    "    - +,-,*,/,%,//(floor division,removes decimal part),**(exponent)"
   ]
  },
  {
   "cell_type": "code",
   "execution_count": 37,
   "metadata": {},
   "outputs": [
    {
     "data": {
      "text/plain": [
       "15.375"
      ]
     },
     "execution_count": 37,
     "metadata": {},
     "output_type": "execute_result"
    }
   ],
   "source": [
    "123/8"
   ]
  },
  {
   "cell_type": "code",
   "execution_count": 38,
   "metadata": {},
   "outputs": [
    {
     "data": {
      "text/plain": [
       "20"
      ]
     },
     "execution_count": 38,
     "metadata": {},
     "output_type": "execute_result"
    }
   ],
   "source": [
    "123//6\n"
   ]
  },
  {
   "cell_type": "code",
   "execution_count": 39,
   "metadata": {},
   "outputs": [
    {
     "data": {
      "text/plain": [
       "27"
      ]
     },
     "execution_count": 39,
     "metadata": {},
     "output_type": "execute_result"
    }
   ],
   "source": [
    "3**3"
   ]
  },
  {
   "cell_type": "code",
   "execution_count": 40,
   "metadata": {},
   "outputs": [
    {
     "name": "stdout",
     "output_type": "stream",
     "text": [
      "50\n",
      "-10\n",
      "600\n",
      "0.6666666666666666\n",
      "20\n",
      "0\n",
      "400\n"
     ]
    }
   ],
   "source": [
    "a=20\n",
    "b=30\n",
    "c=2\n",
    "print(a+b)\n",
    "print(a-b)\n",
    "print(a*b)\n",
    "print(a/b)\n",
    "print(a%b)\n",
    "print(a//b)\n",
    "print(a**c)\n"
   ]
  },
  {
   "cell_type": "markdown",
   "metadata": {},
   "source": [
    "## logical  operators\n",
    "   - and,or,not"
   ]
  },
  {
   "cell_type": "code",
   "execution_count": 46,
   "metadata": {},
   "outputs": [
    {
     "name": "stdout",
     "output_type": "stream",
     "text": [
      "True\n",
      "True\n",
      "False\n",
      "False\n",
      "True\n"
     ]
    }
   ],
   "source": [
    "x=12\n",
    "y=5\n",
    "print(x>10 and y<10)\n",
    "print(x>10 or y>10)\n",
    "print(not x<20)\n",
    "print(not x)\n",
    "print(not z)"
   ]
  },
  {
   "cell_type": "markdown",
   "metadata": {},
   "source": [
    "### relational operators\n",
    "   - <,>,<=,>=,==,!="
   ]
  },
  {
   "cell_type": "code",
   "execution_count": 47,
   "metadata": {},
   "outputs": [
    {
     "name": "stdout",
     "output_type": "stream",
     "text": [
      "False\n",
      "True\n",
      "True\n",
      "False\n",
      "False\n",
      "True\n"
     ]
    }
   ],
   "source": [
    "a=9\n",
    "b=12\n",
    "print(a>b)\n",
    "print(a<b)\n",
    "print(a<=b)\n",
    "print(a>=b)\n",
    "print(a==b)\n",
    "print(a!=b)"
   ]
  },
  {
   "cell_type": "markdown",
   "metadata": {},
   "source": [
    "### membership operator\n",
    "   - in,not in"
   ]
  },
  {
   "cell_type": "code",
   "execution_count": 51,
   "metadata": {},
   "outputs": [
    {
     "name": "stdout",
     "output_type": "stream",
     "text": [
      "False\n",
      "True\n",
      "True\n",
      "False\n",
      "True\n"
     ]
    }
   ],
   "source": [
    "a=\"Python\"\n",
    "print('p' in a)\n",
    "print('P' in a)\n",
    "print('tho' in a)\n",
    "print('tho' not in a)\n",
    "print('not' not in a)"
   ]
  },
  {
   "cell_type": "markdown",
   "metadata": {},
   "source": [
    "## conditional statements\n",
    "#### if(single condition)\n",
    "#### if else(two conditions)\n",
    "#### elif(multiple conditions)\n"
   ]
  },
  {
   "cell_type": "markdown",
   "metadata": {},
   "source": [
    "## syntax\n",
    "#### if condition \n",
    "  - statements"
   ]
  },
  {
   "cell_type": "code",
   "execution_count": 55,
   "metadata": {},
   "outputs": [
    {
     "name": "stdout",
     "output_type": "stream",
     "text": [
      "enter a number12\n",
      "enter a number13\n",
      "<class 'int'>\n",
      "<class 'str'>\n"
     ]
    }
   ],
   "source": [
    "\n",
    "b=input(\"enter a number\")\n",
    "a=int(input(\"enter a number\"))\n",
    "print(type(a))\n",
    "print(type(b))\n"
   ]
  },
  {
   "cell_type": "code",
   "execution_count": 63,
   "metadata": {},
   "outputs": [
    {
     "name": "stdout",
     "output_type": "stream",
     "text": [
      "enter a number13\n"
     ]
    }
   ],
   "source": [
    "# to ckeck even or odd\n",
    "a=int(input(\"enter a number\"))\n",
    "if a%2==0:\n",
    "    print(\"even\")\n",
    "    "
   ]
  },
  {
   "cell_type": "code",
   "execution_count": 65,
   "metadata": {},
   "outputs": [
    {
     "name": "stdout",
     "output_type": "stream",
     "text": [
      "enter a number13\n",
      "odd\n"
     ]
    }
   ],
   "source": [
    "# if-else\n",
    "a=int(input(\"enter a number\"))\n",
    "if a%2==0:\n",
    "    print(\"even\")\n",
    "else:\n",
    "    print(\"odd\")"
   ]
  },
  {
   "cell_type": "code",
   "execution_count": 68,
   "metadata": {},
   "outputs": [
    {
     "name": "stdout",
     "output_type": "stream",
     "text": [
      "enter a number30\n",
      "num is div by both 3 and 5\n"
     ]
    }
   ],
   "source": [
    "# check if a number is div by 3 and 5\n",
    "a=int(input(\"enter a number\"))\n",
    "if a%3==0 and a%5==0:\n",
    "    print(\"num is div by both 3 and 5\")\n",
    "else:\n",
    "    print(\"num is not div by both 3 and 5\")"
   ]
  },
  {
   "cell_type": "code",
   "execution_count": 71,
   "metadata": {},
   "outputs": [
    {
     "name": "stdout",
     "output_type": "stream",
     "text": [
      "enter a number0\n",
      "number is 0\n"
     ]
    }
   ],
   "source": [
    "# number is positive or negative or 0\n",
    "a=int(input(\"enter a number\"))\n",
    "if a>0:\n",
    "    print(\"number is positive\")\n",
    "elif a<0:\n",
    "    print(\"number is negative\")\n",
    "else:\n",
    "    print(\"number is 0\")"
   ]
  },
  {
   "cell_type": "code",
   "execution_count": 76,
   "metadata": {},
   "outputs": [
    {
     "name": "stdout",
     "output_type": "stream",
     "text": [
      "enter a year2000\n",
      "leap year\n"
     ]
    }
   ],
   "source": [
    "# to check leap year\n",
    "a=int(input(\"enter a year\"))\n",
    "if a%4==0:\n",
    "    print(\"leap year\")\n",
    "else:\n",
    "    print(\"not a leap year\")\n",
    "\n"
   ]
  },
  {
   "cell_type": "markdown",
   "metadata": {},
   "source": [
    "### looping statements\n",
    "##### while  loop\n",
    "##### for loop\n",
    "\n"
   ]
  },
  {
   "cell_type": "markdown",
   "metadata": {},
   "source": [
    "# syntax:\n",
    "   while condition\n",
    "    stmts"
   ]
  },
  {
   "cell_type": "code",
   "execution_count": 3,
   "metadata": {},
   "outputs": [
    {
     "name": "stdout",
     "output_type": "stream",
     "text": [
      "enter a number10\n",
      "1\n",
      "2\n",
      "3\n",
      "4\n",
      "5\n",
      "6\n",
      "7\n",
      "8\n",
      "9\n",
      "10\n"
     ]
    }
   ],
   "source": [
    "# print nums  from 1 to n\n",
    "n=int(input(\"enter a number\"))\n",
    "i=1\n",
    "while i<=n:\n",
    "    print(i)\n",
    "    i=i+1"
   ]
  },
  {
   "cell_type": "code",
   "execution_count": null,
   "metadata": {},
   "outputs": [],
   "source": []
  }
 ],
 "metadata": {
  "kernelspec": {
   "display_name": "Python 3",
   "language": "python",
   "name": "python3"
  },
  "language_info": {
   "codemirror_mode": {
    "name": "ipython",
    "version": 3
   },
   "file_extension": ".py",
   "mimetype": "text/x-python",
   "name": "python",
   "nbconvert_exporter": "python",
   "pygments_lexer": "ipython3",
   "version": "3.7.4"
  }
 },
 "nbformat": 4,
 "nbformat_minor": 2
}

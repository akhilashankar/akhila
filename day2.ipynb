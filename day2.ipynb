{
 "cells": [
  {
   "cell_type": "markdown",
   "metadata": {},
   "source": [
    "### functions:\n",
    "  - code reusability\n",
    "  - simpler\n",
    "  - program can be further divided into subprograms\n",
    "#### syntax:\n",
    "  - def functionname(<parameter>):\n",
    "        statements\n",
    "        return statement(optional)"
   ]
  },
  {
   "cell_type": "code",
   "execution_count": 2,
   "metadata": {},
   "outputs": [
    {
     "name": "stdout",
     "output_type": "stream",
     "text": [
      "6\n"
     ]
    }
   ],
   "source": [
    "# read a number \n",
    "# sum of even digits of the number\n",
    "# input 1234\n",
    "# output 6\n",
    "def evendigitsum(n):\n",
    "    s=0\n",
    "    while n!=0:\n",
    "        r=n%10\n",
    "        if r%2==0:\n",
    "            \n",
    "            s=s+r\n",
    "        n=n//10\n",
    "    print(s)\n",
    "evendigitsum(1234)"
   ]
  },
  {
   "cell_type": "code",
   "execution_count": 3,
   "metadata": {},
   "outputs": [
    {
     "name": "stdout",
     "output_type": "stream",
     "text": [
      "9\n"
     ]
    }
   ],
   "source": [
    "#input:13469\n",
    "#output:9(largest digit of given number)\n",
    "def largedigit(n):\n",
    "    large=0\n",
    "    while n!=0:\n",
    "        r=n%10\n",
    "        if large<r:\n",
    "            large=r\n",
    "        n=n//10\n",
    "    print(large)\n",
    "largedigit(19535)\n",
    "        "
   ]
  },
  {
   "cell_type": "markdown",
   "metadata": {},
   "source": [
    "### for loop:\n",
    "  - syntax\n",
    "  \n",
    "    for variablename in iterableobj:\n",
    "        stmts\n",
    "    \n",
    "    \n",
    "    for var_name in range(start,stop,step):\n",
    "        stmts"
   ]
  },
  {
   "cell_type": "code",
   "execution_count": 8,
   "metadata": {},
   "outputs": [
    {
     "name": "stdout",
     "output_type": "stream",
     "text": [
      "0\n",
      "2\n",
      "4\n",
      "6\n",
      "8\n",
      "10\n"
     ]
    }
   ],
   "source": [
    "for i in range(0,11,2):\n",
    "    print(i)"
   ]
  },
  {
   "cell_type": "code",
   "execution_count": 12,
   "metadata": {},
   "outputs": [
    {
     "name": "stdout",
     "output_type": "stream",
     "text": [
      "500 502 504 506 508 510 512 514 516 518 520 "
     ]
    }
   ],
   "source": [
    "# function to print alternate numbers:\n",
    "#[500,520]\n",
    "def alternate(a,b):\n",
    "    for i in range(a,b,2):\n",
    "        print(i,end=' ')\n",
    "alternate(500,521)"
   ]
  },
  {
   "cell_type": "markdown",
   "metadata": {},
   "source": [
    "### collection types:\n",
    "  - list\n",
    "  - tuple\n",
    "  - set\n",
    "  - dictionary"
   ]
  },
  {
   "cell_type": "markdown",
   "metadata": {},
   "source": [
    "### 1.Lists:\n",
    "   - list is one of the datastructure in python\n",
    "   - lists are enabled in []\n",
    "   - list=[1,2,3,4]\n",
    "   - lists will accept multiple datatypes"
   ]
  },
  {
   "cell_type": "code",
   "execution_count": 16,
   "metadata": {},
   "outputs": [
    {
     "name": "stdout",
     "output_type": "stream",
     "text": [
      "2\n",
      "python\n",
      "[3.5, 'gitam']\n"
     ]
    }
   ],
   "source": [
    "li=[2,3.5,'gitam','python']\n",
    "type(li)\n",
    "print(li[0])\n",
    "print(li[-1])\n",
    "print(li[1:3])"
   ]
  },
  {
   "cell_type": "code",
   "execution_count": null,
   "metadata": {},
   "outputs": [],
   "source": []
  }
 ],
 "metadata": {
  "kernelspec": {
   "display_name": "Python 3",
   "language": "python",
   "name": "python3"
  },
  "language_info": {
   "codemirror_mode": {
    "name": "ipython",
    "version": 3
   },
   "file_extension": ".py",
   "mimetype": "text/x-python",
   "name": "python",
   "nbconvert_exporter": "python",
   "pygments_lexer": "ipython3",
   "version": "3.7.4"
  }
 },
 "nbformat": 4,
 "nbformat_minor": 2
}
